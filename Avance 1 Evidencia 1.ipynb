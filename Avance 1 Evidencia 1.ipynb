{
 "cells": [
  {
   "cell_type": "code",
   "execution_count": 1,
   "id": "a6502e60-c96a-44dc-800d-94d5a7dd4393",
   "metadata": {},
   "outputs": [
    {
     "name": "stdout",
     "output_type": "stream",
     "text": [
      "Hello World\n"
     ]
    }
   ],
   "source": [
    "print(\"Hello World\")"
   ]
  },
  {
   "cell_type": "code",
   "execution_count": 2,
   "id": "f51bba46-5463-48a6-b72a-d79fa375ea25",
   "metadata": {},
   "outputs": [
    {
     "name": "stdout",
     "output_type": "stream",
     "text": [
      "{'aisles': [{'columna': 'aisle_id', 'descripcion': 'Identificador único del pasillo donde se encuentra el producto.'}, {'columna': 'aisle', 'descripcion': 'Nombre del pasillo o categoría donde se encuentra el producto.'}], 'departments': [{'columna': 'department_id', 'descripcion': 'Identificador único del departamento al que pertenece el producto.'}, {'columna': 'department', 'descripcion': \"Nombre del departamento (por ejemplo, 'frozen', 'produce', 'bakery').\"}], 'order_products__prior': [{'columna': 'order_id', 'descripcion': 'Identificador único del pedido.'}, {'columna': 'product_id', 'descripcion': 'Identificador único del producto en el pedido.'}, {'columna': 'add_to_cart_order', 'descripcion': 'Orden en la que el producto fue agregado al carrito.'}, {'columna': 'reordered', 'descripcion': 'Indica si el producto fue pedido nuevamente (1 = sí, 0 = no).'}], 'order_products__train': [{'columna': 'order_id', 'descripcion': 'Identificador único del pedido.'}, {'columna': 'product_id', 'descripcion': 'Identificador único del producto en el pedido.'}, {'columna': 'add_to_cart_order', 'descripcion': 'Orden en la que el producto fue agregado al carrito.'}, {'columna': 'reordered', 'descripcion': 'Indica si el producto fue pedido nuevamente (1 = sí, 0 = no).'}], 'orders': [{'columna': 'order_id', 'descripcion': 'Identificador único del pedido.'}, {'columna': 'user_id', 'descripcion': 'Identificador único del usuario que realizó el pedido.'}, {'columna': 'eval_set', 'descripcion': 'Indica si el pedido pertenece al conjunto de entrenamiento o prueba (train/test).'}, {'columna': 'order_number', 'descripcion': 'Número secuencial de orden del usuario.'}, {'columna': 'order_dow', 'descripcion': 'Día de la semana en que se realizó el pedido.'}, {'columna': 'order_hour_of_day', 'descripcion': 'Hora en que se realizó el pedido.'}, {'columna': 'days_since_prior_order', 'descripcion': 'Días desde el último pedido realizado por el usuario.'}], 'products': [{'columna': 'product_id', 'descripcion': 'Identificador único del producto.'}, {'columna': 'product_name', 'descripcion': 'Nombre del producto.'}, {'columna': 'aisle_id', 'descripcion': 'Identificador del pasillo donde se encuentra el producto.'}, {'columna': 'department_id', 'descripcion': 'Identificador del departamento al que pertenece el producto.'}]}\n"
     ]
    }
   ],
   "source": [
    "# Diccionario de datos\n",
    "diccionario_datos = {\n",
    "    \"aisles\": [\n",
    "        {\"columna\": \"aisle_id\", \"descripcion\": \"Identificador único del pasillo donde se encuentra el producto.\"},\n",
    "        {\"columna\": \"aisle\", \"descripcion\": \"Nombre del pasillo o categoría donde se encuentra el producto.\"}\n",
    "    ],\n",
    "    \"departments\": [\n",
    "        {\"columna\": \"department_id\", \"descripcion\": \"Identificador único del departamento al que pertenece el producto.\"},\n",
    "        {\"columna\": \"department\", \"descripcion\": \"Nombre del departamento (por ejemplo, 'frozen', 'produce', 'bakery').\"}\n",
    "    ],\n",
    "    \"order_products__prior\": [\n",
    "        {\"columna\": \"order_id\", \"descripcion\": \"Identificador único del pedido.\"},\n",
    "        {\"columna\": \"product_id\", \"descripcion\": \"Identificador único del producto en el pedido.\"},\n",
    "        {\"columna\": \"add_to_cart_order\", \"descripcion\": \"Orden en la que el producto fue agregado al carrito.\"},\n",
    "        {\"columna\": \"reordered\", \"descripcion\": \"Indica si el producto fue pedido nuevamente (1 = sí, 0 = no).\"}\n",
    "    ],\n",
    "    \"order_products__train\": [\n",
    "        {\"columna\": \"order_id\", \"descripcion\": \"Identificador único del pedido.\"},\n",
    "        {\"columna\": \"product_id\", \"descripcion\": \"Identificador único del producto en el pedido.\"},\n",
    "        {\"columna\": \"add_to_cart_order\", \"descripcion\": \"Orden en la que el producto fue agregado al carrito.\"},\n",
    "        {\"columna\": \"reordered\", \"descripcion\": \"Indica si el producto fue pedido nuevamente (1 = sí, 0 = no).\"}\n",
    "    ],\n",
    "    \"orders\": [\n",
    "        {\"columna\": \"order_id\", \"descripcion\": \"Identificador único del pedido.\"},\n",
    "        {\"columna\": \"user_id\", \"descripcion\": \"Identificador único del usuario que realizó el pedido.\"},\n",
    "        {\"columna\": \"eval_set\", \"descripcion\": \"Indica si el pedido pertenece al conjunto de entrenamiento o prueba (train/test).\"},\n",
    "        {\"columna\": \"order_number\", \"descripcion\": \"Número secuencial de orden del usuario.\"},\n",
    "        {\"columna\": \"order_dow\", \"descripcion\": \"Día de la semana en que se realizó el pedido.\"},\n",
    "        {\"columna\": \"order_hour_of_day\", \"descripcion\": \"Hora en que se realizó el pedido.\"},\n",
    "        {\"columna\": \"days_since_prior_order\", \"descripcion\": \"Días desde el último pedido realizado por el usuario.\"}\n",
    "    ],\n",
    "    \"products\": [\n",
    "        {\"columna\": \"product_id\", \"descripcion\": \"Identificador único del producto.\"},\n",
    "        {\"columna\": \"product_name\", \"descripcion\": \"Nombre del producto.\"},\n",
    "        {\"columna\": \"aisle_id\", \"descripcion\": \"Identificador del pasillo donde se encuentra el producto.\"},\n",
    "        {\"columna\": \"department_id\", \"descripcion\": \"Identificador del departamento al que pertenece el producto.\"}\n",
    "    ]\n",
    "}\n",
    "\n",
    "# Imprimir el diccionario de datos\n",
    "print(diccionario_datos)"
   ]
  },
  {
   "cell_type": "code",
   "execution_count": 3,
   "id": "7d128e12-da6b-432c-abd4-0069e4158f99",
   "metadata": {},
   "outputs": [
    {
     "name": "stdout",
     "output_type": "stream",
     "text": [
      "   aisle_id                       aisle\n",
      "0         1       prepared soups salads\n",
      "1         2           specialty cheeses\n",
      "2         3         energy granola bars\n",
      "3         4               instant foods\n",
      "4         5  marinades meat preparation\n",
      "   department_id department\n",
      "0              1     frozen\n",
      "1              2      other\n",
      "2              3     bakery\n",
      "3              4    produce\n",
      "4              5    alcohol\n",
      "   order_id  product_id  add_to_cart_order  reordered\n",
      "0         2       33120                  1          1\n",
      "1         2       28985                  2          1\n",
      "2         2        9327                  3          0\n",
      "3         2       45918                  4          1\n",
      "4         2       30035                  5          0\n",
      "   order_id  product_id  add_to_cart_order  reordered\n",
      "0         1       49302                  1          1\n",
      "1         1       11109                  2          1\n",
      "2         1       10246                  3          0\n",
      "3         1       49683                  4          0\n",
      "4         1       43633                  5          1\n",
      "   order_id  user_id eval_set  order_number  order_dow  order_hour_of_day  \\\n",
      "0   2539329        1    prior             1          2                  8   \n",
      "1   2398795        1    prior             2          3                  7   \n",
      "2    473747        1    prior             3          3                 12   \n",
      "3   2254736        1    prior             4          4                  7   \n",
      "4    431534        1    prior             5          4                 15   \n",
      "\n",
      "   days_since_prior_order  \n",
      "0                     NaN  \n",
      "1                    15.0  \n",
      "2                    21.0  \n",
      "3                    29.0  \n",
      "4                    28.0  \n",
      "   product_id                                       product_name  aisle_id  \\\n",
      "0           1                         Chocolate Sandwich Cookies        61   \n",
      "1           2                                   All-Seasons Salt       104   \n",
      "2           3               Robust Golden Unsweetened Oolong Tea        94   \n",
      "3           4  Smart Ones Classic Favorites Mini Rigatoni Wit...        38   \n",
      "4           5                          Green Chile Anytime Sauce         5   \n",
      "\n",
      "   department_id  \n",
      "0             19  \n",
      "1             13  \n",
      "2              7  \n",
      "3              1  \n",
      "4             13  \n"
     ]
    }
   ],
   "source": [
    "# Se importan las librerias necesarias\n",
    "import pandas as pd\n",
    "import numpy as np\n",
    "import matplotlib.pyplot as plt\n",
    "import seaborn as sns\n",
    "\n",
    "# Se cargan los datos desde los archivos CSV\n",
    "aisles = pd.read_csv(r'C:\\Proyectos\\Instacart\\aisles.csv')\n",
    "departments = pd.read_csv(r'C:\\Proyectos\\Instacart\\departments.csv')\n",
    "order_products_prior = pd.read_csv(r'C:\\Proyectos\\Instacart\\order_products__prior.csv')\n",
    "order_products_train = pd.read_csv(r'C:\\Proyectos\\Instacart\\order_products__train.csv')\n",
    "orders = pd.read_csv(r'C:\\Proyectos\\Instacart\\orders.csv')\n",
    "products = pd.read_csv(r'C:\\Proyectos\\Instacart\\products.csv')\n",
    "\n",
    "# Se verifica que los datos se cargaron correctamente\n",
    "print(aisles.head())\n",
    "print(departments.head())\n",
    "print(order_products_prior.head())\n",
    "print(order_products_train.head())\n",
    "print(orders.head())\n",
    "print(products.head())"
   ]
  },
  {
   "cell_type": "code",
   "execution_count": 4,
   "id": "b1b72ed7-2608-4caf-be34-7a57c7e33751",
   "metadata": {},
   "outputs": [
    {
     "name": "stdout",
     "output_type": "stream",
     "text": [
      "<class 'pandas.core.frame.DataFrame'>\n",
      "RangeIndex: 134 entries, 0 to 133\n",
      "Data columns (total 2 columns):\n",
      " #   Column    Non-Null Count  Dtype \n",
      "---  ------    --------------  ----- \n",
      " 0   aisle_id  134 non-null    int64 \n",
      " 1   aisle     134 non-null    object\n",
      "dtypes: int64(1), object(1)\n",
      "memory usage: 2.2+ KB\n",
      "None\n",
      "         aisle_id\n",
      "count  134.000000\n",
      "mean    67.500000\n",
      "std     38.826537\n",
      "min      1.000000\n",
      "25%     34.250000\n",
      "50%     67.500000\n",
      "75%    100.750000\n",
      "max    134.000000\n",
      "   aisle_id                       aisle\n",
      "0         1       prepared soups salads\n",
      "1         2           specialty cheeses\n",
      "2         3         energy granola bars\n",
      "3         4               instant foods\n",
      "4         5  marinades meat preparation\n"
     ]
    }
   ],
   "source": [
    "# Informacion general sobre los datos\n",
    "print(aisles.info())\n",
    "\n",
    "# Estadisticas descriptivas (solo para columnas numericas)\n",
    "print(aisles.describe())\n",
    "\n",
    "# Mostrar las primeras filas del DataFrame\n",
    "print(aisles.head())"
   ]
  },
  {
   "cell_type": "code",
   "execution_count": 5,
   "id": "fcadaf9b-19dd-4600-8da6-cc5780df6f0f",
   "metadata": {},
   "outputs": [
    {
     "name": "stdout",
     "output_type": "stream",
     "text": [
      "<class 'pandas.core.frame.DataFrame'>\n",
      "RangeIndex: 21 entries, 0 to 20\n",
      "Data columns (total 2 columns):\n",
      " #   Column         Non-Null Count  Dtype \n",
      "---  ------         --------------  ----- \n",
      " 0   department_id  21 non-null     int64 \n",
      " 1   department     21 non-null     object\n",
      "dtypes: int64(1), object(1)\n",
      "memory usage: 468.0+ bytes\n",
      "None\n",
      "       department_id\n",
      "count      21.000000\n",
      "mean       11.000000\n",
      "std         6.204837\n",
      "min         1.000000\n",
      "25%         6.000000\n",
      "50%        11.000000\n",
      "75%        16.000000\n",
      "max        21.000000\n",
      "   department_id department\n",
      "0              1     frozen\n",
      "1              2      other\n",
      "2              3     bakery\n",
      "3              4    produce\n",
      "4              5    alcohol\n"
     ]
    }
   ],
   "source": [
    "# Informacion general sobre los datos\n",
    "print(departments.info())\n",
    "\n",
    "# Estadisticas descriptivas (solo para columnas numericas)\n",
    "print(departments.describe())\n",
    "\n",
    "# Mostrar las primeras filas del DataFrame\n",
    "print(departments.head())"
   ]
  },
  {
   "cell_type": "code",
   "execution_count": 6,
   "id": "1dadb2bf-4ff8-4675-9b9b-c599809baf5b",
   "metadata": {},
   "outputs": [
    {
     "name": "stdout",
     "output_type": "stream",
     "text": [
      "<class 'pandas.core.frame.DataFrame'>\n",
      "RangeIndex: 32434489 entries, 0 to 32434488\n",
      "Data columns (total 4 columns):\n",
      " #   Column             Dtype\n",
      "---  ------             -----\n",
      " 0   order_id           int64\n",
      " 1   product_id         int64\n",
      " 2   add_to_cart_order  int64\n",
      " 3   reordered          int64\n",
      "dtypes: int64(4)\n",
      "memory usage: 989.8 MB\n",
      "None\n",
      "           order_id    product_id  add_to_cart_order     reordered\n",
      "count  3.243449e+07  3.243449e+07       3.243449e+07  3.243449e+07\n",
      "mean   1.710749e+06  2.557634e+04       8.351076e+00  5.896975e-01\n",
      "std    9.873007e+05  1.409669e+04       7.126671e+00  4.918886e-01\n",
      "min    2.000000e+00  1.000000e+00       1.000000e+00  0.000000e+00\n",
      "25%    8.559430e+05  1.353000e+04       3.000000e+00  0.000000e+00\n",
      "50%    1.711048e+06  2.525600e+04       6.000000e+00  1.000000e+00\n",
      "75%    2.565514e+06  3.793500e+04       1.100000e+01  1.000000e+00\n",
      "max    3.421083e+06  4.968800e+04       1.450000e+02  1.000000e+00\n",
      "   order_id  product_id  add_to_cart_order  reordered\n",
      "0         2       33120                  1          1\n",
      "1         2       28985                  2          1\n",
      "2         2        9327                  3          0\n",
      "3         2       45918                  4          1\n",
      "4         2       30035                  5          0\n"
     ]
    }
   ],
   "source": [
    "# Informacion general sobre los datos\n",
    "print(order_products_prior.info())\n",
    "\n",
    "# Estadisticas descriptivas (solo para columnas numericas)\n",
    "print(order_products_prior.describe())\n",
    "\n",
    "# Mostrar las primeras filas del DataFrame\n",
    "print(order_products_prior.head())"
   ]
  },
  {
   "cell_type": "code",
   "execution_count": 7,
   "id": "a5514c9d-dfbb-45b3-ade6-375e11f135ec",
   "metadata": {},
   "outputs": [
    {
     "name": "stdout",
     "output_type": "stream",
     "text": [
      "<class 'pandas.core.frame.DataFrame'>\n",
      "RangeIndex: 1384617 entries, 0 to 1384616\n",
      "Data columns (total 4 columns):\n",
      " #   Column             Non-Null Count    Dtype\n",
      "---  ------             --------------    -----\n",
      " 0   order_id           1384617 non-null  int64\n",
      " 1   product_id         1384617 non-null  int64\n",
      " 2   add_to_cart_order  1384617 non-null  int64\n",
      " 3   reordered          1384617 non-null  int64\n",
      "dtypes: int64(4)\n",
      "memory usage: 42.3 MB\n",
      "None\n",
      "           order_id    product_id  add_to_cart_order     reordered\n",
      "count  1.384617e+06  1.384617e+06       1.384617e+06  1.384617e+06\n",
      "mean   1.706298e+06  2.555624e+04       8.758044e+00  5.985944e-01\n",
      "std    9.897326e+05  1.412127e+04       7.423936e+00  4.901829e-01\n",
      "min    1.000000e+00  1.000000e+00       1.000000e+00  0.000000e+00\n",
      "25%    8.433700e+05  1.338000e+04       3.000000e+00  0.000000e+00\n",
      "50%    1.701880e+06  2.529800e+04       7.000000e+00  1.000000e+00\n",
      "75%    2.568023e+06  3.794000e+04       1.200000e+01  1.000000e+00\n",
      "max    3.421070e+06  4.968800e+04       8.000000e+01  1.000000e+00\n",
      "   order_id  product_id  add_to_cart_order  reordered\n",
      "0         1       49302                  1          1\n",
      "1         1       11109                  2          1\n",
      "2         1       10246                  3          0\n",
      "3         1       49683                  4          0\n",
      "4         1       43633                  5          1\n"
     ]
    }
   ],
   "source": [
    "# Informacion general sobre los datos\n",
    "print(order_products_train.info())\n",
    "\n",
    "# Estadisticas descriptivas (solo para columnas numericas)\n",
    "print(order_products_train.describe())\n",
    "\n",
    "# Mostrar las primeras filas del DataFrame\n",
    "print(order_products_train.head())"
   ]
  },
  {
   "cell_type": "code",
   "execution_count": 8,
   "id": "8b6c5bce-a360-4e63-b968-acce478f315d",
   "metadata": {},
   "outputs": [
    {
     "name": "stdout",
     "output_type": "stream",
     "text": [
      "<class 'pandas.core.frame.DataFrame'>\n",
      "RangeIndex: 3421083 entries, 0 to 3421082\n",
      "Data columns (total 7 columns):\n",
      " #   Column                  Dtype  \n",
      "---  ------                  -----  \n",
      " 0   order_id                int64  \n",
      " 1   user_id                 int64  \n",
      " 2   eval_set                object \n",
      " 3   order_number            int64  \n",
      " 4   order_dow               int64  \n",
      " 5   order_hour_of_day       int64  \n",
      " 6   days_since_prior_order  float64\n",
      "dtypes: float64(1), int64(5), object(1)\n",
      "memory usage: 182.7+ MB\n",
      "None\n",
      "           order_id       user_id  order_number     order_dow  \\\n",
      "count  3.421083e+06  3.421083e+06  3.421083e+06  3.421083e+06   \n",
      "mean   1.710542e+06  1.029782e+05  1.715486e+01  2.776219e+00   \n",
      "std    9.875817e+05  5.953372e+04  1.773316e+01  2.046829e+00   \n",
      "min    1.000000e+00  1.000000e+00  1.000000e+00  0.000000e+00   \n",
      "25%    8.552715e+05  5.139400e+04  5.000000e+00  1.000000e+00   \n",
      "50%    1.710542e+06  1.026890e+05  1.100000e+01  3.000000e+00   \n",
      "75%    2.565812e+06  1.543850e+05  2.300000e+01  5.000000e+00   \n",
      "max    3.421083e+06  2.062090e+05  1.000000e+02  6.000000e+00   \n",
      "\n",
      "       order_hour_of_day  days_since_prior_order  \n",
      "count       3.421083e+06            3.214874e+06  \n",
      "mean        1.345202e+01            1.111484e+01  \n",
      "std         4.226088e+00            9.206737e+00  \n",
      "min         0.000000e+00            0.000000e+00  \n",
      "25%         1.000000e+01            4.000000e+00  \n",
      "50%         1.300000e+01            7.000000e+00  \n",
      "75%         1.600000e+01            1.500000e+01  \n",
      "max         2.300000e+01            3.000000e+01  \n",
      "   order_id  user_id eval_set  order_number  order_dow  order_hour_of_day  \\\n",
      "0   2539329        1    prior             1          2                  8   \n",
      "1   2398795        1    prior             2          3                  7   \n",
      "2    473747        1    prior             3          3                 12   \n",
      "3   2254736        1    prior             4          4                  7   \n",
      "4    431534        1    prior             5          4                 15   \n",
      "\n",
      "   days_since_prior_order  \n",
      "0                     NaN  \n",
      "1                    15.0  \n",
      "2                    21.0  \n",
      "3                    29.0  \n",
      "4                    28.0  \n"
     ]
    }
   ],
   "source": [
    "# Informacion general sobre los datos\n",
    "print(orders.info())\n",
    "\n",
    "# Estadisticas descriptivas (solo para columnas numericas)\n",
    "print(orders.describe())\n",
    "\n",
    "# Mostrar las primeras filas del DataFrame\n",
    "print(orders.head())"
   ]
  },
  {
   "cell_type": "code",
   "execution_count": 9,
   "id": "239f0abd-0b11-4e08-96e9-8901b53e6431",
   "metadata": {},
   "outputs": [
    {
     "name": "stdout",
     "output_type": "stream",
     "text": [
      "<class 'pandas.core.frame.DataFrame'>\n",
      "RangeIndex: 49688 entries, 0 to 49687\n",
      "Data columns (total 4 columns):\n",
      " #   Column         Non-Null Count  Dtype \n",
      "---  ------         --------------  ----- \n",
      " 0   product_id     49688 non-null  int64 \n",
      " 1   product_name   49688 non-null  object\n",
      " 2   aisle_id       49688 non-null  int64 \n",
      " 3   department_id  49688 non-null  int64 \n",
      "dtypes: int64(3), object(1)\n",
      "memory usage: 1.5+ MB\n",
      "None\n",
      "         product_id      aisle_id  department_id\n",
      "count  49688.000000  49688.000000   49688.000000\n",
      "mean   24844.500000     67.769582      11.728687\n",
      "std    14343.834425     38.316162       5.850410\n",
      "min        1.000000      1.000000       1.000000\n",
      "25%    12422.750000     35.000000       7.000000\n",
      "50%    24844.500000     69.000000      13.000000\n",
      "75%    37266.250000    100.000000      17.000000\n",
      "max    49688.000000    134.000000      21.000000\n",
      "   product_id                                       product_name  aisle_id  \\\n",
      "0           1                         Chocolate Sandwich Cookies        61   \n",
      "1           2                                   All-Seasons Salt       104   \n",
      "2           3               Robust Golden Unsweetened Oolong Tea        94   \n",
      "3           4  Smart Ones Classic Favorites Mini Rigatoni Wit...        38   \n",
      "4           5                          Green Chile Anytime Sauce         5   \n",
      "\n",
      "   department_id  \n",
      "0             19  \n",
      "1             13  \n",
      "2              7  \n",
      "3              1  \n",
      "4             13  \n"
     ]
    }
   ],
   "source": [
    "# Informacion general sobre los datos\n",
    "print(products.info())\n",
    "\n",
    "# Estadisticas descriptivas (solo para columnas numericas)\n",
    "print(products.describe())\n",
    "\n",
    "# Mostrar las primeras filas del DataFrame\n",
    "print(products.head())"
   ]
  },
  {
   "cell_type": "code",
   "execution_count": 10,
   "id": "f650a2f7-b424-431a-92fd-910d1f41baed",
   "metadata": {},
   "outputs": [
    {
     "name": "stdout",
     "output_type": "stream",
     "text": [
      "aisle_id    0\n",
      "aisle       0\n",
      "dtype: int64\n",
      "department_id    0\n",
      "department       0\n",
      "dtype: int64\n",
      "order_id             0\n",
      "product_id           0\n",
      "add_to_cart_order    0\n",
      "reordered            0\n",
      "dtype: int64\n",
      "order_id             0\n",
      "product_id           0\n",
      "add_to_cart_order    0\n",
      "reordered            0\n",
      "dtype: int64\n",
      "order_id                       0\n",
      "user_id                        0\n",
      "eval_set                       0\n",
      "order_number                   0\n",
      "order_dow                      0\n",
      "order_hour_of_day              0\n",
      "days_since_prior_order    206209\n",
      "dtype: int64\n",
      "product_id       0\n",
      "product_name     0\n",
      "aisle_id         0\n",
      "department_id    0\n",
      "dtype: int64\n"
     ]
    }
   ],
   "source": [
    "# Identificar valores nulos en cada conjunto de datos\n",
    "print(aisles.isnull().sum())\n",
    "print(departments.isnull().sum())\n",
    "print(order_products_prior.isnull().sum())\n",
    "print(order_products_train.isnull().sum())\n",
    "print(orders.isnull().sum())\n",
    "print(products.isnull().sum())"
   ]
  },
  {
   "cell_type": "code",
   "execution_count": 11,
   "id": "6545e2f3-a23c-42ca-9334-562cb726eeec",
   "metadata": {},
   "outputs": [
    {
     "data": {
      "image/png": "[encoded data removed]",
      "text/plain": [
       "<Figure size 1200x600 with 1 Axes>"
      ]
     },
     "metadata": {},
     "output_type": "display_data"
    }
   ],
   "source": [
    "# Grafica de distribucion de productos por pasillo\n",
    "plt.figure(figsize=(12, 6))\n",
    "sns.countplot(data=products, x='aisle_id')\n",
    "plt.title('Distribución de productos por pasillo')\n",
    "plt.xticks(rotation=90)\n",
    "plt.show()"
   ]
  },
  {
   "cell_type": "code",
   "execution_count": 12,
   "id": "c8da8d82-db7d-4e65-8309-f8eaea2d58a2",
   "metadata": {},
   "outputs": [
    {
     "data": {
      "image/png": "[encoded data removed]",
      "text/plain": [
       "<Figure size 1200x600 with 1 Axes>"
      ]
     },
     "metadata": {},
     "output_type": "display_data"
    }
   ],
   "source": [
    "# Grafica de distribucion de productos por departamento\n",
    "plt.figure(figsize=(12, 6))\n",
    "sns.countplot(data=products, x='department_id')\n",
    "plt.title('Distribución de productos por departamento')\n",
    "plt.xticks(rotation=90)\n",
    "plt.show()"
   ]
  },
  {
   "cell_type": "code",
   "execution_count": null,
   "id": "0cac36c5-40af-479e-bf03-7bb4dd8e86ff",
   "metadata": {},
   "outputs": [],
   "source": [
    "# Grafica de numero de pedidos por cliente\n",
    "plt.figure(figsize=(12, 6))\n",
    "sns.countplot(data=orders, x='user_id')\n",
    "plt.title('Número de pedidos por cliente')\n",
    "plt.show()"
   ]
  },
  {
   "cell_type": "code",
   "execution_count": null,
   "id": "3d761451-3fc9-4162-8cca-a4fed799b2f0",
   "metadata": {},
   "outputs": [],
   "source": [
    "# Unir productos con los pedidos\n",
    "merged_data = pd.merge(order_products_prior, products, on='product_id', how='inner')\n",
    "\n",
    "# Mostrar las primeras filas del resultado combinado\n",
    "print(merged_data.head())"
   ]
  },
  {
   "cell_type": "code",
   "execution_count": null,
   "id": "48fd4a0e-6937-424c-a070-0cf2e5f7ab33",
   "metadata": {},
   "outputs": [],
   "source": [
    "# Se importa las librerias necesarias\n",
    "import pandas as pd\n",
    "\n",
    "# Se cargan los datos de 'orders.csv'\n",
    "orders = pd.read_csv('C:/Proyectos/Instacart/orders.csv')\n",
    "\n",
    "# Se agrupa por 'user_id' y contar cuantas compras ha hecho cada usuario\n",
    "user_orders = orders.groupby('user_id')['order_id'].count().reset_index()\n",
    "\n",
    "# Se filtra a los clientes con mas de 10 compras\n",
    "active_users = user_orders[user_orders['order_id'] > 10]"
   ]
  },
  {
   "cell_type": "code",
   "execution_count": null,
   "id": "4630e113-e966-4b94-bff9-43d86fc8ce0c",
   "metadata": {},
   "outputs": [],
   "source": [
    "# Se cargan los datos de 'order_products_prior.csv'\n",
    "order_products_prior = pd.read_csv('C:/Proyectos/Instacart/order_products__prior.csv')\n",
    "\n",
    "# Se filtran las ordenes de los usuarios activos\n",
    "active_orders = order_products_prior[order_products_prior['user_id'].isin(active_users['user_id'])]\n",
    "\n",
    "# Ahora se tienen los productos comprados por los usuarios activos"
   ]
  },
  {
   "cell_type": "code",
   "execution_count": null,
   "id": "857a333a-87df-4502-877e-990d36990b93",
   "metadata": {},
   "outputs": [],
   "source": [
    "# Se agrupa por 'user_id' y 'aisle_id' para ver que productos se compran mas\n",
    "user_product_segment = active_orders.groupby(['user_id', 'aisle_id']).size().reset_index(name='purchase_count')\n",
    "\n",
    "# Ve el comportamiento de compra para un usuario especifico\n",
    "user_product_segment[user_product_segment['user_id'] == 1]"
   ]
  },
  {
   "cell_type": "code",
   "execution_count": null,
   "id": "08a793e0-d7eb-490d-b7d4-7960f1709340",
   "metadata": {},
   "outputs": [],
   "source": [
    "from mlxtend.preprocessing import TransactionEncoder\n",
    "\n",
    "# Se crea una lista de transacciones por usuario\n",
    "transactions = active_orders.groupby('user_id')['product_id'].apply(list).values.tolist()\n",
    "\n",
    "# Se convierten las transacciones en un formato de matriz\n",
    "te = TransactionEncoder()\n",
    "te_ary = te.fit(transactions).transform(transactions)\n",
    "\n",
    "# Crea un DataFrame de transacciones\n",
    "df_trans = pd.DataFrame(te_ary, columns=te.columns_)"
   ]
  },
  {
   "cell_type": "code",
   "execution_count": null,
   "id": "1125ddb3-0f2e-4f0d-ac6e-d42e956d8276",
   "metadata": {},
   "outputs": [],
   "source": [
    "from mlxtend.preprocessing import TransactionEncoder\n",
    "\n",
    "# Se crea una lista de transacciones por usuario\n",
    "transactions = active_orders.groupby('user_id')['product_id'].apply(list).values.tolist()\n",
    "\n",
    "# Se convierte las transacciones en un formato de matriz\n",
    "te = TransactionEncoder()\n",
    "te_ary = te.fit(transactions).transform(transactions)\n",
    "\n",
    "# Se crea un DataFrame de transacciones\n",
    "df_trans = pd.DataFrame(te_ary, columns=te.columns_)"
   ]
  },
  {
   "cell_type": "code",
   "execution_count": null,
   "id": "78633ba2-6cf5-48ba-9b52-41124b2f0873",
   "metadata": {},
   "outputs": [],
   "source": [
    "from mlxtend.frequent_patterns import apriori, association_rules\n",
    "\n",
    "# Se ejecuta el algoritmo Apriori\n",
    "frequent_itemsets = apriori(df_trans, min_support=0.01, use_colnames=True)\n",
    "\n",
    "# Genera reglas de asociacion\n",
    "rules = association_rules(frequent_itemsets, metric=\"lift\", min_threshold=1.2)\n",
    "\n",
    "# Muestra las reglas mas fuertes\n",
    "rules = rules.sort_values('lift', ascending=False)\n",
    "rules.head(10)"
   ]
  },
  {
   "cell_type": "code",
   "execution_count": null,
   "id": "36097e1b-dc13-4cab-9ef3-a9a2a2ebfd9b",
   "metadata": {},
   "outputs": [],
   "source": [
    "print(df.isnull().sum())"
   ]
  },
  {
   "cell_type": "code",
   "execution_count": null,
   "id": "cea6e24b-fff4-45bf-ab19-9841e2a31f6b",
   "metadata": {},
   "outputs": [],
   "source": []
  }
 ],
 "metadata": {
  "kernelspec": {
   "display_name": "Python 3 (ipykernel)",
   "language": "python",
   "name": "python3"
  },
  "language_info": {
   "codemirror_mode": {
    "name": "ipython",
    "version": 3
   },
   "file_extension": ".py",
   "mimetype": "text/x-python",
   "name": "python",
   "nbconvert_exporter": "python",
   "pygments_lexer": "ipython3",
   "version": "3.12.7"
  }
 },
 "nbformat": 4,
 "nbformat_minor": 5
}

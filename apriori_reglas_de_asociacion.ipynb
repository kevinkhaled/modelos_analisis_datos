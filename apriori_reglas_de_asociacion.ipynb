{
 "cells": [
  {
   "cell_type": "code",
   "execution_count": 1,
   "id": "3a668aab-823c-496f-8678-91a8146b6db9",
   "metadata": {},
   "outputs": [
    {
     "name": "stdout",
     "output_type": "stream",
     "text": [
      "  antecedents consequents  antecedent support  consequent support  support  \\\n",
      "0     (Carne)    (Huevos)                 0.8                 0.8      0.6   \n",
      "1    (Huevos)     (Carne)                 0.8                 0.8      0.6   \n",
      "\n",
      "   confidence    lift  representativity  leverage  conviction  zhangs_metric  \\\n",
      "0        0.75  0.9375               1.0     -0.04         0.8          -0.25   \n",
      "1        0.75  0.9375               1.0     -0.04         0.8          -0.25   \n",
      "\n",
      "   jaccard  certainty  kulczynski  \n",
      "0      0.6      -0.25        0.75  \n",
      "1      0.6      -0.25        0.75  \n"
     ]
    },
    {
     "name": "stderr",
     "output_type": "stream",
     "text": [
      "C:\\Users\\Agustin\\anaconda3\\envs\\analisis_datos\\Lib\\site-packages\\mlxtend\\frequent_patterns\\fpcommon.py:161: DeprecationWarning: DataFrames with non-bool types result in worse computationalperformance and their support might be discontinued in the future.Please use a DataFrame with bool type\n",
      "  warnings.warn(\n"
     ]
    }
   ],
   "source": [
    "import pandas as pd\n",
    "from mlxtend.frequent_patterns import apriori, association_rules\n",
    "\n",
    "# Datos de ejemplo\n",
    "data = pd.DataFrame({\n",
    "    'Leche': [1, 0, 1, 1, 0],\n",
    "    'Pan': [1, 1, 1, 0, 0],\n",
    "    'Huevos': [0, 1, 1, 1, 1],\n",
    "    'Carne': [1, 1, 0, 1, 1]\n",
    "})\n",
    "\n",
    "# Aplicar Apriori\n",
    "frequent_itemsets = apriori(data, min_support=0.5, use_colnames=True)\n",
    "rules = association_rules(frequent_itemsets, metric=\"confidence\", min_threshold=0.6)\n",
    "\n",
    "print(rules)"
   ]
  },
  {
   "cell_type": "code",
   "execution_count": null,
   "id": "5fabf17f-8da5-480f-8a22-d726546a92bc",
   "metadata": {},
   "outputs": [],
   "source": []
  }
 ],
 "metadata": {
  "kernelspec": {
   "display_name": "Python 3 (ipykernel)",
   "language": "python",
   "name": "python3"
  },
  "language_info": {
   "codemirror_mode": {
    "name": "ipython",
    "version": 3
   },
   "file_extension": ".py",
   "mimetype": "text/x-python",
   "name": "python",
   "nbconvert_exporter": "python",
   "pygments_lexer": "ipython3",
   "version": "3.12.9"
  }
 },
 "nbformat": 4,
 "nbformat_minor": 5
}
